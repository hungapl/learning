{
 "cells": [
  {
   "cell_type": "markdown",
   "metadata": {},
   "source": [
    "https://en.wikipedia.org/wiki/Semicolon"
   ]
  },
  {
   "cell_type": "markdown",
   "metadata": {},
   "source": [
    "# Semicolon\n",
    "\n",
    "1. A semicolon can be used between two closely-related independent clauses, provided they are not already joined by a coordinating conjunction, when the two clauses are balanced, opposed or contradictory.\n",
    "\n",
    "*My wife would like tea; I would like coffee.*\n",
    "\n",
    "Note that the two clauses must be independent - they are complete sentences on their own.\n",
    "\n",
    "2. Between items in a series or a list of items\n",
    "\n",
    "*The people present were Jamie, a man From New Zealand; John, the milkman's son; and George, a gaunt kind of man with no friends*\n",
    "\n"
   ]
  },
  {
   "cell_type": "markdown",
   "metadata": {},
   "source": [
    "# Colon\n",
    "\n",
    "### Colon used before list\n",
    "Williams was so hungry he ate everything in the house: chips, cold pizza, pretzels and dip, hot dogs, peanut butter, and candy.\n",
    "### Colon used before a description\n",
    "Jane is so desperate that she'll date anyone, even Tom: he's uglier than a squashed toad on the highway, and that's on his good days.\n",
    "### Colon before definition\n",
    "For years while I was reading Shakespeare's Othello and criticism on it, I had to constantly look up the word \"egregious\" since the villain uses that word: outstandingly bad or shocking.\n",
    "### Colon before explanation\n",
    "I had a rough weekend: I had chest pain and spent all Saturday and Sunday in the emergency room.\n"
   ]
  },
  {
   "cell_type": "markdown",
   "metadata": {},
   "source": [
    "# Dash\n",
    "\n",
    "Dash is punctuation similar in appearance to hypen but longer.\n",
    "\n",
    "The notation is a double dash or a spaced dash\n",
    "\n",
    "1. Mark a break in a sentence\n",
    "*Glitter, felt, yarn, and buttons—his kitchen looked as if a clown had exploded.*\n",
    "2. Provide more details without breaking the flow of the sentence\n",
    "*A flock of sparrows – some of them juveniles – alighted and sang*"
   ]
  },
  {
   "cell_type": "code",
   "execution_count": null,
   "metadata": {},
   "outputs": [],
   "source": []
  }
 ],
 "metadata": {
  "kernelspec": {
   "display_name": "Python 3",
   "language": "python",
   "name": "python3"
  },
  "language_info": {
   "codemirror_mode": {
    "name": "ipython",
    "version": 3
   },
   "file_extension": ".py",
   "mimetype": "text/x-python",
   "name": "python",
   "nbconvert_exporter": "python",
   "pygments_lexer": "ipython3",
   "version": "3.7.3"
  }
 },
 "nbformat": 4,
 "nbformat_minor": 2
}
