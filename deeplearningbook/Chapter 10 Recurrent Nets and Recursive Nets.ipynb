{
 "cells": [
  {
   "cell_type": "markdown",
   "metadata": {},
   "source": [
    "A recurrent neural network is a neural network that is specialised for processing a sequence of values $x^1,...,x^T$.  Most neural networks can also process sequences of variable length.\n",
    "\n",
    "\n",
    "**Parameter sharing** make it possible to extend and apply the model to examples of different forms and generalize across them.  If we had separate parameters for each value of the time index, we could not generalize to sequence lengths not seen during training.  Such sharing is particularly important when a specific piece of information can occur at mutliple positions within the sequence."
   ]
  },
  {
   "cell_type": "code",
   "execution_count": null,
   "metadata": {
    "collapsed": true
   },
   "outputs": [],
   "source": []
  }
 ],
 "metadata": {
  "kernelspec": {
   "display_name": "Python 3",
   "language": "python",
   "name": "python3"
  },
  "language_info": {
   "codemirror_mode": {
    "name": "ipython",
    "version": 3
   },
   "file_extension": ".py",
   "mimetype": "text/x-python",
   "name": "python",
   "nbconvert_exporter": "python",
   "pygments_lexer": "ipython3",
   "version": "3.6.1"
  }
 },
 "nbformat": 4,
 "nbformat_minor": 2
}
