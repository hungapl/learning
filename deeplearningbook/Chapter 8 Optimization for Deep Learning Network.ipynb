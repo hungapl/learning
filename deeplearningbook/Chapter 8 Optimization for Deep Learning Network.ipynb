{
 "cells": [
  {
   "cell_type": "markdown",
   "metadata": {},
   "source": [
    "n most machine learning scenarios, we care about some performance measure $P$, that is deﬁned with respect to the test set and may also be intractable. Wetherefore optimizePonly indirectly. We reduce a diﬀerent cost function $J(θ)$ in the hope that doing so will improve $P$. This is in contrast to pure optimization,where minimizing $J$ is a goal in and of itself."
   ]
  },
  {
   "cell_type": "code",
   "execution_count": null,
   "metadata": {
    "collapsed": true
   },
   "outputs": [],
   "source": []
  }
 ],
 "metadata": {
  "kernelspec": {
   "display_name": "Python 3",
   "language": "python",
   "name": "python3"
  },
  "language_info": {
   "codemirror_mode": {
    "name": "ipython",
    "version": 3
   },
   "file_extension": ".py",
   "mimetype": "text/x-python",
   "name": "python",
   "nbconvert_exporter": "python",
   "pygments_lexer": "ipython3",
   "version": "3.6.1"
  }
 },
 "nbformat": 4,
 "nbformat_minor": 2
}
