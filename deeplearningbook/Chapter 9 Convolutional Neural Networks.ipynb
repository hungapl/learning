{
 "cells": [
  {
   "cell_type": "markdown",
   "metadata": {},
   "source": [
    "\n",
    "$s(t) = (x*w)(t)$\n",
    "\n",
    "\n",
    "In convolutional network terminology, the ﬁrst argument to the convolution is often referred to as the **input**, and the second(in this example, the function $w$) as the **kernel**. The output is sometimes referred to as the **feature map**.\n",
    "It is not realistic for a sensor to provide measurements at every instant, instead data will be provided at regular intervals.  Let's say our laser provides a measurement once per second, then we can define the discete convolution:\n",
    "\n",
    "$s(t) = (x ∗ w)(t)  =\\sum_{-\\infty}^{\\infty}\\mathop{}_{\\mkern-5mu n} x(a)w(t-a)$\n",
    "\n",
    "where $w(a)$ is a weighting function and $a$ is the age of a measurement"
   ]
  },
  {
   "cell_type": "markdown",
   "metadata": {},
   "source": [
    "Convolution leverages three important ideas that can help improve a machine learning system:\n",
    "### Sparse connections\n",
    "In a traditional NN, every output unti interacts with every input unit.  If there are $m$ inputs and $n$ outputs, then matrix multiplication requires $m \\times n$ parameters and the algorithms used in practice have $O(m \\times n)$ runtime. CNN, however, typically have sparse connections.  This is established by making the kernel smaller than the input -> fewer parameters -> reduces the memory requirements -> improves statistical efficency.  The kernel $k$ is usually several orders of magnitude smaller than $m$\n",
    "\n",
    "> statistical efficeny - a more efficient estimator, experiment, or test needs fewer observations than a less efficient one to achieve a given performance\n",
    "\n",
    "### Parameter sharing\n",
    "- Use the same parameter for more than one function in a model\n",
    "- ?\n",
    "\n",
    "### Equivariance\n",
    "Equivariance to translation\n",
    "To say a function is equivariant means that if the input changes, the output changes in the same way.\n",
    "\n",
    "\n",
    "## Pooling\n",
    "A pooling function replaces the output of the net at a certain location with a summary statistic of the nearby outputs.  In all cases, polling helps to make the representation approximately **invariant** to small translations of the input.\n",
    "\n",
    "Pooling is also essential for handling inputs of varying size.  "
   ]
  },
  {
   "cell_type": "code",
   "execution_count": null,
   "metadata": {
    "collapsed": true
   },
   "outputs": [],
   "source": []
  }
 ],
 "metadata": {
  "kernelspec": {
   "display_name": "Python 3",
   "language": "python",
   "name": "python3"
  },
  "language_info": {
   "codemirror_mode": {
    "name": "ipython",
    "version": 3
   },
   "file_extension": ".py",
   "mimetype": "text/x-python",
   "name": "python",
   "nbconvert_exporter": "python",
   "pygments_lexer": "ipython3",
   "version": "3.6.1"
  }
 },
 "nbformat": 4,
 "nbformat_minor": 2
}
