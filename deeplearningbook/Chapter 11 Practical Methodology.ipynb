{
 "cells": [
  {
   "cell_type": "markdown",
   "metadata": {},
   "source": [
    "## Performance Metrics\n",
    "Determine your goals, in terms of which error metric to use, is a necessary first step because your error metric will guide all your future actions.  You should also have an idea of what level of performance you desire.  \n",
    "\n",
    "Sometimes accuracy is a poor way to characterise the performance of a system (e.g. classifier for a rare disease, simply hard-code a classifier to report the disease is always absent will achieve > 99% accuracy.).  One way to solve this problem is to instead measure **precision** and **recall**.  It is common to plot a **PR curve** to investigate the trade-off between precision for recall.\n",
    "\n",
    "\n",
    "## Default baseline models\n",
    "1. Choose the general category of model based on the structure of your input data.  \n",
    "- Fixed-size vectors -> use a feedforward network with fully connected layers\n",
    "- Known topological structure -> use a convolutional network\n",
    "- sequence data -> gated recurrent net (LSTM or GRU) \n",
    "2. Choose a piecewise linear unit function as activation function\n",
    "- RELUs, leaky ReLUs, etc\n",
    "3. Reasoable choice of optimization algorithm\n",
    "- SGD with decaying learning rate\n",
    "- Adam\n",
    "- Batch normalization (may not be needed for baseline)\n",
    "4. Consider re-use an existing model for solving a similar problem\n",
    "\n",
    "## Determine whether to gather more data\n",
    "- Poor performance on the training set -> training algorithm requires improving\n",
    "- Acceptable performance on training set, but worse performance on test set -> Algorithmns not able to generalise or need more data\n",
    "\n",
    "## Selecting hyperparameters\n",
    "- Some affect time and memory cost of running the algorithms\n",
    "- Some affect the quality of the model\n",
    "- Manual selection requires understand of what the hyperparameters do and how ML models achieve good generalisation\n",
    "- Automatic selection reduce the need to understand but they are often computationally costly."
   ]
  }
 ],
 "metadata": {
  "kernelspec": {
   "display_name": "Python 3",
   "language": "python",
   "name": "python3"
  },
  "language_info": {
   "codemirror_mode": {
    "name": "ipython",
    "version": 3
   },
   "file_extension": ".py",
   "mimetype": "text/x-python",
   "name": "python",
   "nbconvert_exporter": "python",
   "pygments_lexer": "ipython3",
   "version": "3.7.3"
  }
 },
 "nbformat": 4,
 "nbformat_minor": 2
}
