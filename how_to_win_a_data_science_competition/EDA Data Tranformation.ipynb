{
 "cells": [
  {
   "cell_type": "markdown",
   "metadata": {},
   "source": [
    "\n",
    "** Log Transformations for Skewed and Wide Distributions **\n",
    "This transformation can be used of the magnitude of unit does not matter. For example, an account balance of negative is not much difference of a balance of zero.\n",
    "\n",
    "\"It’s also generally a good idea to log transform data with values that range over several orders of magnitude. First, because modeling techniques often have a difficult time with very wide data ranges, and second, because such data often comes from multiplicative processes, so log units are in some sense more natural.\"\n",
    "\n",
    "Source - [https://www.r-statistics.com/2013/05/log-transformations-for-skewed-and-wide-distributions-from-practical-data-science-with-r/](https://www.r-statistics.com/2013/05/log-transformations-for-skewed-and-wide-distributions-from-practical-data-science-with-r/)\n",
    " \n",
    "Illustration of relative change vs absolute: Relative change is the same, absolute change is different\n",
    "Stock A goes from $1 to $1.10. Stock B goes from $100 to $110.\n",
    "\n",
    "Stock A gained 10%, stock B gained 10% (relative scale, equal)\n",
    "...but stock A gained 10 cents, while stock B gained $10 (B gained more absolute dollar amount)\n",
    "\n",
    "If we convert to log space, relative changes appear as absolute changes.\n",
    "\n",
    "Stock A goes from log10($1) to log10($1.10) = 0 to .0413 \n",
    "Stock B goes from log10($100) to log10($110) = 2 to 2.0413\n",
    "\n",
    "Now, taking the absolute difference in log space, we find that both changed by .0413.\n",
    "\n",
    "Both of these measures of change are important, and which one is important to you depends solely on your model of investing. There are two models. (1) Investing a fixed amount of principal, or (2) investing in a fixed number of shares.\n",
    "\n",
    "General Idea\n",
    "If the distribution is very wide and the absolute difference between values are of little importance, then log transformation is a good idea.\n",
    "\n",
    "Things to understand before using log transformation - https://people.duke.edu/~rnau/411log.htm\n",
    "\n",
    "Note that "
   ]
  },
  {
   "cell_type": "code",
   "execution_count": 12,
   "metadata": {},
   "outputs": [
    {
     "data": {
      "text/plain": [
       "(array([100.,   1.,   0.,   0.,   0.,   1.,   1.,   1.,   1.,   5.]),\n",
       " array([1.        , 1.29937448, 1.59874895, 1.89812343, 2.1974979 ,\n",
       "        2.49687238, 2.79624685, 3.09562133, 3.39499581, 3.69437028,\n",
       "        3.99374476]),\n",
       " <a list of 10 Patch objects>)"
      ]
     },
     "execution_count": 12,
     "metadata": {},
     "output_type": "execute_result"
    },
    {
     "data": {
      "image/png": "[encoded data removed]",
      "text/plain": [
       "<Figure size 432x288 with 1 Axes>"
      ]
     },
     "metadata": {},
     "output_type": "display_data"
    },
    {
     "data": {
      "image/png": "[encoded data removed]",
      "text/plain": [
       "<Figure size 432x288 with 1 Axes>"
      ]
     },
     "metadata": {},
     "output_type": "display_data"
    }
   ],
   "source": [
    "from matplotlib import pyplot as plt\n",
    "%matplotlib inline\n",
    "# plot a skewed distribution\n",
    "import random\n",
    "import numpy as np\n",
    "a = np.repeat(10, 100)\n",
    "#print(a.shape)\n",
    "b = [random.randint(10,10000) for r in range(10)]\n",
    "x = np.append(a, np.array(b))\n",
    "\n",
    "plt.title('x')\n",
    "plt.hist(x)\n",
    "plt.figure('log(x)')\n",
    "plt.hist(np.log10(x))\n",
    "\n",
    "\n"
   ]
  },
  {
   "cell_type": "code",
   "execution_count": null,
   "metadata": {
    "collapsed": true
   },
   "outputs": [],
   "source": []
  }
 ],
 "metadata": {
  "kernelspec": {
   "display_name": "Python 3",
   "language": "python",
   "name": "python3"
  },
  "language_info": {
   "codemirror_mode": {
    "name": "ipython",
    "version": 3
   },
   "file_extension": ".py",
   "mimetype": "text/x-python",
   "name": "python",
   "nbconvert_exporter": "python",
   "pygments_lexer": "ipython3",
   "version": "3.6.1"
  }
 },
 "nbformat": 4,
 "nbformat_minor": 2
}
